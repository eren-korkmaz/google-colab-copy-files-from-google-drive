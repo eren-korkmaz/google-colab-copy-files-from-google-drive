import os 

import matplotlib.pyplot as plt
import matplotlib.image as mpimg

import shutil #to copy file

# it gives an link to copy and past some auth code
from google.colab import drive
drive.mount('/content/gdrive')

os.makedirs("sonrasilerim", exist_ok=True) #Create folder in colab

!ls "sonrasilerim" #look inside folder 

# visit all files inside google drive
# change your folder path after "/content/gdrive/My Drive/"
for filename in os.listdir('/content/gdrive/My Drive/python/maske/maske_gorsel/'):  
    newPath = shutil.copy('/content/gdrive/My Drive/python/maske/maske_gorsel/' + filename, 'sonrasilerim')


#check it all images here

img_path = 'sonrasilerim/maske__1_800x533.png'
  
image = mpimg.imread(img_path)

draw = image.copy()
draw = cv2.cvtColor(draw, cv2.COLOR_BGR2RGB)

plt.axis('off')
plt.imshow(draw)
plt.show()

